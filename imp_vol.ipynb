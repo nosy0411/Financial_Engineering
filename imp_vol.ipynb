{
 "nbformat": 4,
 "nbformat_minor": 2,
 "metadata": {
  "language_info": {
   "name": "python",
   "codemirror_mode": {
    "name": "ipython",
    "version": 3
   },
   "version": "3.6.8-final"
  },
  "orig_nbformat": 2,
  "file_extension": ".py",
  "mimetype": "text/x-python",
  "name": "python",
  "npconvert_exporter": "python",
  "pygments_lexer": "ipython3",
  "version": 3,
  "kernelspec": {
   "name": "python3",
   "display_name": "Python 3"
  }
 },
 "cells": [
  {
   "cell_type": "code",
   "execution_count": 3,
   "metadata": {},
   "outputs": [
    {
     "name": "stdout",
     "output_type": "stream",
     "text": "[[0.12603944]]\n"
    }
   ],
   "source": [
    "import numpy as np \n",
    "from calcbsimpvol import calcbsimpvol\n",
    "\n",
    "S = np.asarray(268.55) # Underlying Price \n",
    "K = np.asarray([275.0]) # Strike Price \n",
    "tau = np.asarray([9/365]) # Time to Maturity \n",
    "r = np.asarray(0.01) # Interest Rate \n",
    "q = np.asarray(0.00) # Dividend Rate \n",
    "cp = np.asarray(1) # Option Type \n",
    "P = np.asarray([0.31]) # Market Price\n",
    "\n",
    "imp_vol = calcbsimpvol(dict(cp=cp, P=P, S=S, K=K, tau=tau, r=r, q=q)) \n",
    "print(imp_vol)\n"
   ]
  },
  {
   "cell_type": "code",
   "execution_count": null,
   "metadata": {},
   "outputs": [],
   "source": []
  }
 ]
}