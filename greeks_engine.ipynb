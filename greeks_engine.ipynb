{
 "nbformat": 4,
 "nbformat_minor": 2,
 "metadata": {
  "language_info": {
   "name": "python",
   "codemirror_mode": {
    "name": "ipython",
    "version": 3
   },
   "version": "3.6.8-final"
  },
  "orig_nbformat": 2,
  "file_extension": ".py",
  "mimetype": "text/x-python",
  "name": "python",
  "npconvert_exporter": "python",
  "pygments_lexer": "ipython3",
  "version": 3,
  "kernelspec": {
   "name": "python3",
   "display_name": "Python 3"
  }
 },
 "cells": [
  {
   "cell_type": "code",
   "execution_count": 3,
   "metadata": {},
   "outputs": [],
   "source": [
    "import numpy as np \n",
    "from math import log, e \n",
    "from scipy.stats import norm \n",
    "from calcbsimpvol import calcbsimpvol\n",
    "\n",
    "class BSM: \n",
    "    def __init__(self, args): \n",
    "        self.mkt_prc = float(args[0]) # Option Market Price \n",
    "        self.Type = int(args[1]) # Option Type \n",
    "        self.S = float(args[2]) # Underlying Price \n",
    "        self.K = float(args[3]) # Strike price \n",
    "        self.r = float(args[4]) # Interest Rate \n",
    "        self.q = float(args[5]) # Dividend Rate \n",
    "        self.T = float(args[6]) / 365.0 # Time to Maturity \n",
    "\n",
    "        self.sigma = self.imp_vol() # Implied volatility \n",
    "        self.sigmaT = self.sigma * self.T ** 0.5 \n",
    "        self.d1 = (log(self.S / self.K) + (self.r - self.q + 0.5 * (self.sigma ** 2)) * self.T) / self.sigmaT  \n",
    "        self.d2 = self.d1 - self.sigmaT \n",
    "        \n",
    "    def imp_vol(self): \n",
    "        cp = np.asarray(self.Type) \n",
    "        P = np.asarray([self.mkt_prc]) \n",
    "        S = np.asarray(self.S) \n",
    "        K = np.asarray([self.K]) \n",
    "        tau = np.asarray([self.T]) \n",
    "        r = np.asarray(self.r) \n",
    "        q = np.asarray(self.q) \n",
    "        imvol = calcbsimpvol(dict(cp=cp, P=P, S=S, K=K, tau=tau, r=r, q=q)) \n",
    "        imvol = np.ndarray.item(imvol) \n",
    "            \n",
    "        return imvol \n",
    "\n",
    "    def delta(self): \n",
    "        dfq = e ** (-self.q * self.T) \n",
    "            \n",
    "        if self.Type == 1: \n",
    "            return dfq * norm.cdf(self.d1) \n",
    "        else: \n",
    "            return dfq * (norm.cdf(self.d1) - 1) \n",
    "\n",
    "    def gamma(self): \n",
    "        return e ** (-self.q * self.T) * norm.pdf(self.d1) / (self.S * self.sigmaT) \n",
    "        \n",
    "    def vega(self): \n",
    "        return 0.01 * self.S * e ** (-self.q * self.T) * norm.pdf(self.d1) * self.T ** 0.5 \n",
    "        \n",
    "    def theta(self): \n",
    "        df = e ** -(self.r * self.T) \n",
    "        dfq = e ** (-self.q * self.T) \n",
    "        tmptheta = (1.0 / 365.0) * (-0.5 * self.S * dfq * norm.pdf(self.d1) * self.sigma / (self.T ** 0.5) + self.Type * (self.q * self.S * dfq * norm.cdf(self.Type * self.d1) - self.r * self.K * df * norm.cdf(self.Type * self.d2))) \n",
    "        return tmptheta \n",
    "        \n",
    "    def rho(self): \n",
    "        df = e ** -(self.r * self.T) \n",
    "            \n",
    "        return self.Type * self.K * self.T * df * 0.01 * norm.cdf(self.Type * self.d2)"
   ]
  },
  {
   "cell_type": "code",
   "execution_count": 4,
   "metadata": {},
   "outputs": [
    {
     "name": "stdout",
     "output_type": "stream",
     "text": "Implied Vol =  0.126\nDelta =  0.1196\nGamma =  0.0376\nVega =  0.0842\nTheta =  -0.0598\nRho =  0.0078\n"
    }
   ],
   "source": [
    "mkt_prc = 0.31 # Market Price \n",
    "option_type = 1 # Option Type \n",
    "S = 268.55 # Underlying Price \n",
    "K = 275.0 # Strike Price \n",
    "q = 0.0 # Dividend Rate \n",
    "r = 0.01 # Interest Rate \n",
    "T = 9 # Time to Maturity \n",
    "\n",
    "args = [mkt_prc, option_type, S, K, r, q, T] \n",
    "\n",
    "BSM = BSM(args) \n",
    "imp_vol = BSM.imp_vol() \n",
    "delta = BSM.delta() \n",
    "gamma = BSM.gamma() \n",
    "vega = BSM.vega() \n",
    "theta = BSM.theta() \n",
    "rho = BSM.rho() \n",
    "\n",
    "print('Implied Vol = ', round(imp_vol, 4)) \n",
    "print('Delta = ', round(delta, 4)) \n",
    "print('Gamma = ', round(gamma, 4)) \n",
    "print('Vega = ', round(vega, 4)) \n",
    "print('Theta = ', round(theta, 4)) \n",
    "print('Rho = ', round(rho, 4))"
   ]
  },
  {
   "cell_type": "code",
   "execution_count": null,
   "metadata": {},
   "outputs": [],
   "source": []
  }
 ]
}